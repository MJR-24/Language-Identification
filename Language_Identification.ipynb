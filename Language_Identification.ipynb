{
  "nbformat": 4,
  "nbformat_minor": 0,
  "metadata": {
    "colab": {
      "provenance": [],
      "collapsed_sections": [
        "qPRs6qbv923O",
        "-_Z6MZ9xky-B",
        "N7gJL40H1XY8",
        "D9QJSbet1bUI",
        "SeaVftTP1t6f",
        "8STkKmpq5SID",
        "_vztDObcATbs",
        "W0RDTcl3EMB9",
        "QZEz75GTYJWI",
        "3Zwm2qVNcarY"
      ]
    },
    "kernelspec": {
      "name": "python3",
      "display_name": "Python 3"
    },
    "language_info": {
      "name": "python"
    }
  },
  "cells": [
    {
      "cell_type": "markdown",
      "source": [
        "# **Language Identification**\n",
        "\n",
        "*   **Purpose**: Build a model to detect the language of a given text sample.\n",
        "\n",
        "*   Dataset: [Language Detection](https://www.kaggle.com/datasets/basilb2s/language-detection) from Kaggle.\n",
        "\n",
        "---\n",
        "Languages (currently) included in the model:\n",
        "\n",
        "1) English\n",
        "\n",
        "2) Malayalam\n",
        "\n",
        "3) Hindi\n",
        "\n",
        "4) Tamil\n",
        "\n",
        "5) Kannada\n",
        "\n",
        "6) French\n",
        "\n",
        "7) Spanish\n",
        "\n",
        "8) Portuguese\n",
        "\n",
        "9) Italian\n",
        "\n",
        "10) Russian\n",
        "\n",
        "11) Sweedish\n",
        "\n",
        "12) Dutch\n",
        "\n",
        "13) Arabic\n",
        "\n",
        "14) Turkish\n",
        "\n",
        "15) German\n",
        "\n",
        "16) Danish\n",
        "\n",
        "17) Greek\n",
        "\n",
        "---\n"
      ],
      "metadata": {
        "id": "K4NGc9S5fxmF"
      }
    },
    {
      "cell_type": "markdown",
      "source": [
        "## *Import Packages*"
      ],
      "metadata": {
        "id": "qPRs6qbv923O"
      }
    },
    {
      "cell_type": "code",
      "source": [
        "# import packages\n",
        "import re # regular expressions module for pattern matching & text manipulation\n",
        "\n",
        "import pandas as pd # dataframes\n",
        "import numpy as np # arrays\n",
        "\n",
        "import seaborn as sns # visualizations\n",
        "import matplotlib.pyplot as plt # more visualizations"
      ],
      "metadata": {
        "id": "CoCM5hyw-e_T"
      },
      "execution_count": 41,
      "outputs": []
    },
    {
      "cell_type": "markdown",
      "source": [
        "## *Import Dataset*"
      ],
      "metadata": {
        "id": "-_Z6MZ9xky-B"
      }
    },
    {
      "cell_type": "code",
      "source": [
        "from google.colab import drive\n",
        "drive.mount('/content/drive')\n",
        "\n",
        "filePath = \"/content/drive/My Drive/Coding/Language Identification/Language Detection.csv\"\n",
        "df = pd.read_csv(filePath)"
      ],
      "metadata": {
        "colab": {
          "base_uri": "https://localhost:8080/"
        },
        "id": "yHlu6k-IleUb",
        "outputId": "ed3f4ca4-2daa-4c61-839c-178951ad1f33"
      },
      "execution_count": 42,
      "outputs": [
        {
          "output_type": "stream",
          "name": "stdout",
          "text": [
            "Drive already mounted at /content/drive; to attempt to forcibly remount, call drive.mount(\"/content/drive\", force_remount=True).\n"
          ]
        }
      ]
    },
    {
      "cell_type": "markdown",
      "source": [
        "## *Data Exploration*"
      ],
      "metadata": {
        "id": "N7gJL40H1XY8"
      }
    },
    {
      "cell_type": "code",
      "source": [
        "df.head() # see sample data"
      ],
      "metadata": {
        "colab": {
          "base_uri": "https://localhost:8080/",
          "height": 206
        },
        "id": "5yxL2TY0mFYk",
        "outputId": "457c2fd0-e59b-46f6-e5bd-f1038a01cb20"
      },
      "execution_count": 43,
      "outputs": [
        {
          "output_type": "execute_result",
          "data": {
            "text/plain": [
              "                                                Text Language\n",
              "0   Nature, in the broadest sense, is the natural...  English\n",
              "1  \"Nature\" can refer to the phenomena of the phy...  English\n",
              "2  The study of nature is a large, if not the onl...  English\n",
              "3  Although humans are part of nature, human acti...  English\n",
              "4  [1] The word nature is borrowed from the Old F...  English"
            ],
            "text/html": [
              "\n",
              "  <div id=\"df-326b0e7f-4713-4b6a-9d87-39508b69124f\" class=\"colab-df-container\">\n",
              "    <div>\n",
              "<style scoped>\n",
              "    .dataframe tbody tr th:only-of-type {\n",
              "        vertical-align: middle;\n",
              "    }\n",
              "\n",
              "    .dataframe tbody tr th {\n",
              "        vertical-align: top;\n",
              "    }\n",
              "\n",
              "    .dataframe thead th {\n",
              "        text-align: right;\n",
              "    }\n",
              "</style>\n",
              "<table border=\"1\" class=\"dataframe\">\n",
              "  <thead>\n",
              "    <tr style=\"text-align: right;\">\n",
              "      <th></th>\n",
              "      <th>Text</th>\n",
              "      <th>Language</th>\n",
              "    </tr>\n",
              "  </thead>\n",
              "  <tbody>\n",
              "    <tr>\n",
              "      <th>0</th>\n",
              "      <td>Nature, in the broadest sense, is the natural...</td>\n",
              "      <td>English</td>\n",
              "    </tr>\n",
              "    <tr>\n",
              "      <th>1</th>\n",
              "      <td>\"Nature\" can refer to the phenomena of the phy...</td>\n",
              "      <td>English</td>\n",
              "    </tr>\n",
              "    <tr>\n",
              "      <th>2</th>\n",
              "      <td>The study of nature is a large, if not the onl...</td>\n",
              "      <td>English</td>\n",
              "    </tr>\n",
              "    <tr>\n",
              "      <th>3</th>\n",
              "      <td>Although humans are part of nature, human acti...</td>\n",
              "      <td>English</td>\n",
              "    </tr>\n",
              "    <tr>\n",
              "      <th>4</th>\n",
              "      <td>[1] The word nature is borrowed from the Old F...</td>\n",
              "      <td>English</td>\n",
              "    </tr>\n",
              "  </tbody>\n",
              "</table>\n",
              "</div>\n",
              "    <div class=\"colab-df-buttons\">\n",
              "\n",
              "  <div class=\"colab-df-container\">\n",
              "    <button class=\"colab-df-convert\" onclick=\"convertToInteractive('df-326b0e7f-4713-4b6a-9d87-39508b69124f')\"\n",
              "            title=\"Convert this dataframe to an interactive table.\"\n",
              "            style=\"display:none;\">\n",
              "\n",
              "  <svg xmlns=\"http://www.w3.org/2000/svg\" height=\"24px\" viewBox=\"0 -960 960 960\">\n",
              "    <path d=\"M120-120v-720h720v720H120Zm60-500h600v-160H180v160Zm220 220h160v-160H400v160Zm0 220h160v-160H400v160ZM180-400h160v-160H180v160Zm440 0h160v-160H620v160ZM180-180h160v-160H180v160Zm440 0h160v-160H620v160Z\"/>\n",
              "  </svg>\n",
              "    </button>\n",
              "\n",
              "  <style>\n",
              "    .colab-df-container {\n",
              "      display:flex;\n",
              "      gap: 12px;\n",
              "    }\n",
              "\n",
              "    .colab-df-convert {\n",
              "      background-color: #E8F0FE;\n",
              "      border: none;\n",
              "      border-radius: 50%;\n",
              "      cursor: pointer;\n",
              "      display: none;\n",
              "      fill: #1967D2;\n",
              "      height: 32px;\n",
              "      padding: 0 0 0 0;\n",
              "      width: 32px;\n",
              "    }\n",
              "\n",
              "    .colab-df-convert:hover {\n",
              "      background-color: #E2EBFA;\n",
              "      box-shadow: 0px 1px 2px rgba(60, 64, 67, 0.3), 0px 1px 3px 1px rgba(60, 64, 67, 0.15);\n",
              "      fill: #174EA6;\n",
              "    }\n",
              "\n",
              "    .colab-df-buttons div {\n",
              "      margin-bottom: 4px;\n",
              "    }\n",
              "\n",
              "    [theme=dark] .colab-df-convert {\n",
              "      background-color: #3B4455;\n",
              "      fill: #D2E3FC;\n",
              "    }\n",
              "\n",
              "    [theme=dark] .colab-df-convert:hover {\n",
              "      background-color: #434B5C;\n",
              "      box-shadow: 0px 1px 3px 1px rgba(0, 0, 0, 0.15);\n",
              "      filter: drop-shadow(0px 1px 2px rgba(0, 0, 0, 0.3));\n",
              "      fill: #FFFFFF;\n",
              "    }\n",
              "  </style>\n",
              "\n",
              "    <script>\n",
              "      const buttonEl =\n",
              "        document.querySelector('#df-326b0e7f-4713-4b6a-9d87-39508b69124f button.colab-df-convert');\n",
              "      buttonEl.style.display =\n",
              "        google.colab.kernel.accessAllowed ? 'block' : 'none';\n",
              "\n",
              "      async function convertToInteractive(key) {\n",
              "        const element = document.querySelector('#df-326b0e7f-4713-4b6a-9d87-39508b69124f');\n",
              "        const dataTable =\n",
              "          await google.colab.kernel.invokeFunction('convertToInteractive',\n",
              "                                                    [key], {});\n",
              "        if (!dataTable) return;\n",
              "\n",
              "        const docLinkHtml = 'Like what you see? Visit the ' +\n",
              "          '<a target=\"_blank\" href=https://colab.research.google.com/notebooks/data_table.ipynb>data table notebook</a>'\n",
              "          + ' to learn more about interactive tables.';\n",
              "        element.innerHTML = '';\n",
              "        dataTable['output_type'] = 'display_data';\n",
              "        await google.colab.output.renderOutput(dataTable, element);\n",
              "        const docLink = document.createElement('div');\n",
              "        docLink.innerHTML = docLinkHtml;\n",
              "        element.appendChild(docLink);\n",
              "      }\n",
              "    </script>\n",
              "  </div>\n",
              "\n",
              "\n",
              "<div id=\"df-34097c68-c1e9-43de-9c08-8bbfb65cdac0\">\n",
              "  <button class=\"colab-df-quickchart\" onclick=\"quickchart('df-34097c68-c1e9-43de-9c08-8bbfb65cdac0')\"\n",
              "            title=\"Suggest charts\"\n",
              "            style=\"display:none;\">\n",
              "\n",
              "<svg xmlns=\"http://www.w3.org/2000/svg\" height=\"24px\"viewBox=\"0 0 24 24\"\n",
              "     width=\"24px\">\n",
              "    <g>\n",
              "        <path d=\"M19 3H5c-1.1 0-2 .9-2 2v14c0 1.1.9 2 2 2h14c1.1 0 2-.9 2-2V5c0-1.1-.9-2-2-2zM9 17H7v-7h2v7zm4 0h-2V7h2v10zm4 0h-2v-4h2v4z\"/>\n",
              "    </g>\n",
              "</svg>\n",
              "  </button>\n",
              "\n",
              "<style>\n",
              "  .colab-df-quickchart {\n",
              "      --bg-color: #E8F0FE;\n",
              "      --fill-color: #1967D2;\n",
              "      --hover-bg-color: #E2EBFA;\n",
              "      --hover-fill-color: #174EA6;\n",
              "      --disabled-fill-color: #AAA;\n",
              "      --disabled-bg-color: #DDD;\n",
              "  }\n",
              "\n",
              "  [theme=dark] .colab-df-quickchart {\n",
              "      --bg-color: #3B4455;\n",
              "      --fill-color: #D2E3FC;\n",
              "      --hover-bg-color: #434B5C;\n",
              "      --hover-fill-color: #FFFFFF;\n",
              "      --disabled-bg-color: #3B4455;\n",
              "      --disabled-fill-color: #666;\n",
              "  }\n",
              "\n",
              "  .colab-df-quickchart {\n",
              "    background-color: var(--bg-color);\n",
              "    border: none;\n",
              "    border-radius: 50%;\n",
              "    cursor: pointer;\n",
              "    display: none;\n",
              "    fill: var(--fill-color);\n",
              "    height: 32px;\n",
              "    padding: 0;\n",
              "    width: 32px;\n",
              "  }\n",
              "\n",
              "  .colab-df-quickchart:hover {\n",
              "    background-color: var(--hover-bg-color);\n",
              "    box-shadow: 0 1px 2px rgba(60, 64, 67, 0.3), 0 1px 3px 1px rgba(60, 64, 67, 0.15);\n",
              "    fill: var(--button-hover-fill-color);\n",
              "  }\n",
              "\n",
              "  .colab-df-quickchart-complete:disabled,\n",
              "  .colab-df-quickchart-complete:disabled:hover {\n",
              "    background-color: var(--disabled-bg-color);\n",
              "    fill: var(--disabled-fill-color);\n",
              "    box-shadow: none;\n",
              "  }\n",
              "\n",
              "  .colab-df-spinner {\n",
              "    border: 2px solid var(--fill-color);\n",
              "    border-color: transparent;\n",
              "    border-bottom-color: var(--fill-color);\n",
              "    animation:\n",
              "      spin 1s steps(1) infinite;\n",
              "  }\n",
              "\n",
              "  @keyframes spin {\n",
              "    0% {\n",
              "      border-color: transparent;\n",
              "      border-bottom-color: var(--fill-color);\n",
              "      border-left-color: var(--fill-color);\n",
              "    }\n",
              "    20% {\n",
              "      border-color: transparent;\n",
              "      border-left-color: var(--fill-color);\n",
              "      border-top-color: var(--fill-color);\n",
              "    }\n",
              "    30% {\n",
              "      border-color: transparent;\n",
              "      border-left-color: var(--fill-color);\n",
              "      border-top-color: var(--fill-color);\n",
              "      border-right-color: var(--fill-color);\n",
              "    }\n",
              "    40% {\n",
              "      border-color: transparent;\n",
              "      border-right-color: var(--fill-color);\n",
              "      border-top-color: var(--fill-color);\n",
              "    }\n",
              "    60% {\n",
              "      border-color: transparent;\n",
              "      border-right-color: var(--fill-color);\n",
              "    }\n",
              "    80% {\n",
              "      border-color: transparent;\n",
              "      border-right-color: var(--fill-color);\n",
              "      border-bottom-color: var(--fill-color);\n",
              "    }\n",
              "    90% {\n",
              "      border-color: transparent;\n",
              "      border-bottom-color: var(--fill-color);\n",
              "    }\n",
              "  }\n",
              "</style>\n",
              "\n",
              "  <script>\n",
              "    async function quickchart(key) {\n",
              "      const quickchartButtonEl =\n",
              "        document.querySelector('#' + key + ' button');\n",
              "      quickchartButtonEl.disabled = true;  // To prevent multiple clicks.\n",
              "      quickchartButtonEl.classList.add('colab-df-spinner');\n",
              "      try {\n",
              "        const charts = await google.colab.kernel.invokeFunction(\n",
              "            'suggestCharts', [key], {});\n",
              "      } catch (error) {\n",
              "        console.error('Error during call to suggestCharts:', error);\n",
              "      }\n",
              "      quickchartButtonEl.classList.remove('colab-df-spinner');\n",
              "      quickchartButtonEl.classList.add('colab-df-quickchart-complete');\n",
              "    }\n",
              "    (() => {\n",
              "      let quickchartButtonEl =\n",
              "        document.querySelector('#df-34097c68-c1e9-43de-9c08-8bbfb65cdac0 button');\n",
              "      quickchartButtonEl.style.display =\n",
              "        google.colab.kernel.accessAllowed ? 'block' : 'none';\n",
              "    })();\n",
              "  </script>\n",
              "</div>\n",
              "\n",
              "    </div>\n",
              "  </div>\n"
            ],
            "application/vnd.google.colaboratory.intrinsic+json": {
              "type": "dataframe",
              "variable_name": "df",
              "summary": "{\n  \"name\": \"df\",\n  \"rows\": 10337,\n  \"fields\": [\n    {\n      \"column\": \"Text\",\n      \"properties\": {\n        \"dtype\": \"string\",\n        \"num_unique_values\": 10267,\n        \"samples\": [\n          \"\\u0647\\u0644 \\u064a\\u0645\\u0643\\u0646 \\u0623\\u0646 \\u062a\\u062e\\u0628\\u0631\\u0646\\u064a \\u0645\\u0627\\u0630\\u0627 \\u062a\\u0639\\u0646\\u064a \\u0647\\u0630\\u0647 \\u0627\\u0644\\u0643\\u0644\\u0645\\u0629\\u061f \\u0647\\u0644 \\u062a\\u0639\\u0631\\u0641 \\u0623\\u064a\\u0646 \\u062a\\u0648\\u062c\\u062f \\u0627\\u0644\\u0645\\u0643\\u062a\\u0628\\u0629\\u061f \\u0645\\u062a\\u0631\\u062f\\u062f.\",\n          \"Alla fine del 2005 \\u00e8 sorta una controversia dopo che il giornalista John Seigenthaler Sr. aveva notato come la sua biografia fosse stata vandalizzata inserendo informazioni false.\",\n          \"seus amigos que \\u00e9 este canal estupendo para estudantes e algumas outras palavras que voc\\u00ea pode usar ao inv\\u00e9s de estupendo s\\u00e3o incr\\u00edveis fant\\u00e1sticas ou excepcionalmente boas ok ent\\u00e3o antes de continuarmos com as cinco palavras equilibradas neste v\\u00eddeo, lembre-se de colocar um coment\\u00e1rio abaixo deste v\\u00eddeo.\"\n        ],\n        \"semantic_type\": \"\",\n        \"description\": \"\"\n      }\n    },\n    {\n      \"column\": \"Language\",\n      \"properties\": {\n        \"dtype\": \"category\",\n        \"num_unique_values\": 17,\n        \"samples\": [\n          \"English\",\n          \"Malayalam\",\n          \"French\"\n        ],\n        \"semantic_type\": \"\",\n        \"description\": \"\"\n      }\n    }\n  ]\n}"
            }
          },
          "metadata": {},
          "execution_count": 43
        }
      ]
    },
    {
      "cell_type": "code",
      "source": [
        "df.shape"
      ],
      "metadata": {
        "colab": {
          "base_uri": "https://localhost:8080/"
        },
        "id": "wHS6MvFQeGOT",
        "outputId": "9001baaf-9dd6-4d67-aca2-b25f6c2ea116"
      },
      "execution_count": 75,
      "outputs": [
        {
          "output_type": "execute_result",
          "data": {
            "text/plain": [
              "(10337, 2)"
            ]
          },
          "metadata": {},
          "execution_count": 75
        }
      ]
    },
    {
      "cell_type": "code",
      "source": [
        "df[\"Language\"].value_counts() # see number of values per language"
      ],
      "metadata": {
        "colab": {
          "base_uri": "https://localhost:8080/"
        },
        "id": "QfuYVcy8mc9t",
        "outputId": "a3159b35-92b8-443a-ae96-96083fac4639"
      },
      "execution_count": 44,
      "outputs": [
        {
          "output_type": "execute_result",
          "data": {
            "text/plain": [
              "English       1385\n",
              "French        1014\n",
              "Spanish        819\n",
              "Portugeese     739\n",
              "Italian        698\n",
              "Russian        692\n",
              "Sweedish       676\n",
              "Malayalam      594\n",
              "Dutch          546\n",
              "Arabic         536\n",
              "Turkish        474\n",
              "German         470\n",
              "Tamil          469\n",
              "Danish         428\n",
              "Kannada        369\n",
              "Greek          365\n",
              "Hindi           63\n",
              "Name: Language, dtype: int64"
            ]
          },
          "metadata": {},
          "execution_count": 44
        }
      ]
    },
    {
      "cell_type": "code",
      "source": [
        "categoryCounts = df[\"Language\"].value_counts()\n",
        "orderedCategories = categoryCounts.index # show values from most to least\n",
        "\n",
        "plt.xticks(rotation=45, ha='right') # make categories more legible\n",
        "sns.countplot(data=df, x=\"Language\", order=orderedCategories) # visualize dataset values"
      ],
      "metadata": {
        "colab": {
          "base_uri": "https://localhost:8080/",
          "height": 517
        },
        "id": "2xGb02eFmv_u",
        "outputId": "069dbead-1d61-47a9-e203-66454d59c54e"
      },
      "execution_count": 45,
      "outputs": [
        {
          "output_type": "execute_result",
          "data": {
            "text/plain": [
              "<Axes: xlabel='Language', ylabel='count'>"
            ]
          },
          "metadata": {},
          "execution_count": 45
        },
        {
          "output_type": "display_data",
          "data": {
            "text/plain": [
              "<Figure size 640x480 with 1 Axes>"
            ],
            "image/png": "[encoded data removed]"
          },
          "metadata": {}
        }
      ]
    },
    {
      "cell_type": "markdown",
      "source": [
        "## *Assign Features*"
      ],
      "metadata": {
        "id": "D9QJSbet1bUI"
      }
    },
    {
      "cell_type": "code",
      "source": [
        "X = df[\"Text\"] # independent text data\n",
        "y = df[\"Language\"] # dependent language names"
      ],
      "metadata": {
        "id": "_Sa10RNJ0-Dh"
      },
      "execution_count": 46,
      "outputs": []
    },
    {
      "cell_type": "markdown",
      "source": [
        "## *Label Encoding*\n",
        "*   Turn our categorical variables (language names) into numerical values for training our model.\n",
        "\n"
      ],
      "metadata": {
        "id": "SeaVftTP1t6f"
      }
    },
    {
      "cell_type": "code",
      "source": [
        "from sklearn.preprocessing import LabelEncoder # for encoding categorical labels into numerical values\n",
        "le = LabelEncoder() # creating instance\n",
        "y = le.fit_transform(y) # transforms language names into num. values"
      ],
      "metadata": {
        "id": "AasXhFeC1v9e"
      },
      "execution_count": 47,
      "outputs": []
    },
    {
      "cell_type": "markdown",
      "source": [
        "## *Data Prep*\n",
        "\n",
        "*   Removing any irrelevant symbols & numbers within the dataset that may compromise the model's performance.\n",
        "\n"
      ],
      "metadata": {
        "id": "8STkKmpq5SID"
      }
    },
    {
      "cell_type": "code",
      "source": [
        "textList = [] # list to append pre-processed text\n",
        "\n",
        "# iterate through text (X)\n",
        "for text in X:\n",
        "  text = re.sub(r'[!@#$(),n\"%^*?:;~`0-9]', ' ', text) # remove symbols & numbers\n",
        "  text = re.sub(r'[[]]', ' ', text) # remove brackets\n",
        "  text = text.lower() # convert all text to lowercase\n",
        "  textList.append(text) # add all pre-processed X data to textList"
      ],
      "metadata": {
        "id": "YX7VySHa5jn1"
      },
      "execution_count": 48,
      "outputs": []
    },
    {
      "cell_type": "code",
      "source": [
        "# use CountVectorizer (Bag of Words model) to text into num. form\n",
        "from sklearn.feature_extraction.text import CountVectorizer\n",
        "cv = CountVectorizer()\n",
        "X = cv.fit_transform(textList).toarray()\n",
        "X.shape"
      ],
      "metadata": {
        "colab": {
          "base_uri": "https://localhost:8080/"
        },
        "id": "IE_bZO2S6uDg",
        "outputId": "53eb9fd0-0a63-462b-aba5-0990e3f7ac1e"
      },
      "execution_count": 49,
      "outputs": [
        {
          "output_type": "execute_result",
          "data": {
            "text/plain": [
              "(10337, 34937)"
            ]
          },
          "metadata": {},
          "execution_count": 49
        }
      ]
    },
    {
      "cell_type": "markdown",
      "source": [
        "## *Train | Test*\n",
        "\n",
        "*   Test at 20%\n",
        "*   Train at 80%\n",
        "\n",
        "\n",
        "\n"
      ],
      "metadata": {
        "id": "_vztDObcATbs"
      }
    },
    {
      "cell_type": "code",
      "source": [
        "# split data into training and test splits\n",
        "from sklearn.model_selection import train_test_split\n",
        "x_train, x_test, y_train, y_test = train_test_split(X, y, test_size = 0.20)"
      ],
      "metadata": {
        "id": "qTEKK5g0AgCK"
      },
      "execution_count": 50,
      "outputs": []
    },
    {
      "cell_type": "code",
      "source": [
        "# Naive Bayes algorithm\n",
        "from sklearn.naive_bayes import MultinomialNB # using multinomial NB b/c these data are words counts in text classification\n",
        "model = MultinomialNB() # creates instance of classifier model to be trained\n",
        "model.fit(x_train, y_train) # x_train = input features; y_train = target labels"
      ],
      "metadata": {
        "colab": {
          "base_uri": "https://localhost:8080/",
          "height": 75
        },
        "id": "-E3GGDg5A8vi",
        "outputId": "35fd3fdf-f9e3-4eaa-96da-536b168ba3fb"
      },
      "execution_count": 51,
      "outputs": [
        {
          "output_type": "execute_result",
          "data": {
            "text/plain": [
              "MultinomialNB()"
            ],
            "text/html": [
              "<style>#sk-container-id-3 {color: black;background-color: white;}#sk-container-id-3 pre{padding: 0;}#sk-container-id-3 div.sk-toggleable {background-color: white;}#sk-container-id-3 label.sk-toggleable__label {cursor: pointer;display: block;width: 100%;margin-bottom: 0;padding: 0.3em;box-sizing: border-box;text-align: center;}#sk-container-id-3 label.sk-toggleable__label-arrow:before {content: \"▸\";float: left;margin-right: 0.25em;color: #696969;}#sk-container-id-3 label.sk-toggleable__label-arrow:hover:before {color: black;}#sk-container-id-3 div.sk-estimator:hover label.sk-toggleable__label-arrow:before {color: black;}#sk-container-id-3 div.sk-toggleable__content {max-height: 0;max-width: 0;overflow: hidden;text-align: left;background-color: #f0f8ff;}#sk-container-id-3 div.sk-toggleable__content pre {margin: 0.2em;color: black;border-radius: 0.25em;background-color: #f0f8ff;}#sk-container-id-3 input.sk-toggleable__control:checked~div.sk-toggleable__content {max-height: 200px;max-width: 100%;overflow: auto;}#sk-container-id-3 input.sk-toggleable__control:checked~label.sk-toggleable__label-arrow:before {content: \"▾\";}#sk-container-id-3 div.sk-estimator input.sk-toggleable__control:checked~label.sk-toggleable__label {background-color: #d4ebff;}#sk-container-id-3 div.sk-label input.sk-toggleable__control:checked~label.sk-toggleable__label {background-color: #d4ebff;}#sk-container-id-3 input.sk-hidden--visually {border: 0;clip: rect(1px 1px 1px 1px);clip: rect(1px, 1px, 1px, 1px);height: 1px;margin: -1px;overflow: hidden;padding: 0;position: absolute;width: 1px;}#sk-container-id-3 div.sk-estimator {font-family: monospace;background-color: #f0f8ff;border: 1px dotted black;border-radius: 0.25em;box-sizing: border-box;margin-bottom: 0.5em;}#sk-container-id-3 div.sk-estimator:hover {background-color: #d4ebff;}#sk-container-id-3 div.sk-parallel-item::after {content: \"\";width: 100%;border-bottom: 1px solid gray;flex-grow: 1;}#sk-container-id-3 div.sk-label:hover label.sk-toggleable__label {background-color: #d4ebff;}#sk-container-id-3 div.sk-serial::before {content: \"\";position: absolute;border-left: 1px solid gray;box-sizing: border-box;top: 0;bottom: 0;left: 50%;z-index: 0;}#sk-container-id-3 div.sk-serial {display: flex;flex-direction: column;align-items: center;background-color: white;padding-right: 0.2em;padding-left: 0.2em;position: relative;}#sk-container-id-3 div.sk-item {position: relative;z-index: 1;}#sk-container-id-3 div.sk-parallel {display: flex;align-items: stretch;justify-content: center;background-color: white;position: relative;}#sk-container-id-3 div.sk-item::before, #sk-container-id-3 div.sk-parallel-item::before {content: \"\";position: absolute;border-left: 1px solid gray;box-sizing: border-box;top: 0;bottom: 0;left: 50%;z-index: -1;}#sk-container-id-3 div.sk-parallel-item {display: flex;flex-direction: column;z-index: 1;position: relative;background-color: white;}#sk-container-id-3 div.sk-parallel-item:first-child::after {align-self: flex-end;width: 50%;}#sk-container-id-3 div.sk-parallel-item:last-child::after {align-self: flex-start;width: 50%;}#sk-container-id-3 div.sk-parallel-item:only-child::after {width: 0;}#sk-container-id-3 div.sk-dashed-wrapped {border: 1px dashed gray;margin: 0 0.4em 0.5em 0.4em;box-sizing: border-box;padding-bottom: 0.4em;background-color: white;}#sk-container-id-3 div.sk-label label {font-family: monospace;font-weight: bold;display: inline-block;line-height: 1.2em;}#sk-container-id-3 div.sk-label-container {text-align: center;}#sk-container-id-3 div.sk-container {/* jupyter's `normalize.less` sets `[hidden] { display: none; }` but bootstrap.min.css set `[hidden] { display: none !important; }` so we also need the `!important` here to be able to override the default hidden behavior on the sphinx rendered scikit-learn.org. See: https://github.com/scikit-learn/scikit-learn/issues/21755 */display: inline-block !important;position: relative;}#sk-container-id-3 div.sk-text-repr-fallback {display: none;}</style><div id=\"sk-container-id-3\" class=\"sk-top-container\"><div class=\"sk-text-repr-fallback\"><pre>MultinomialNB()</pre><b>In a Jupyter environment, please rerun this cell to show the HTML representation or trust the notebook. <br />On GitHub, the HTML representation is unable to render, please try loading this page with nbviewer.org.</b></div><div class=\"sk-container\" hidden><div class=\"sk-item\"><div class=\"sk-estimator sk-toggleable\"><input class=\"sk-toggleable__control sk-hidden--visually\" id=\"sk-estimator-id-3\" type=\"checkbox\" checked><label for=\"sk-estimator-id-3\" class=\"sk-toggleable__label sk-toggleable__label-arrow\">MultinomialNB</label><div class=\"sk-toggleable__content\"><pre>MultinomialNB()</pre></div></div></div></div></div>"
            ]
          },
          "metadata": {},
          "execution_count": 51
        }
      ]
    },
    {
      "cell_type": "code",
      "source": [
        "y_prediction = model.predict(x_test) # predict test set"
      ],
      "metadata": {
        "id": "w91_dzKeDvDT"
      },
      "execution_count": 52,
      "outputs": []
    },
    {
      "cell_type": "markdown",
      "source": [
        "## *Evaluation*"
      ],
      "metadata": {
        "id": "W0RDTcl3EMB9"
      }
    },
    {
      "cell_type": "code",
      "source": [
        "from sklearn.metrics import accuracy_score, confusion_matrix, classification_report"
      ],
      "metadata": {
        "id": "KhhoxhTAETZr"
      },
      "execution_count": 53,
      "outputs": []
    },
    {
      "cell_type": "code",
      "source": [
        "accuracy = accuracy_score(y_test, y_prediction) # compares true and predicted labels & computes proportion of correct predictions\n",
        "confusion_m = confusion_matrix(y_test, y_prediction) # table to summarize model's performance\n",
        "\n",
        "print(\"Accuracy: \", accuracy)"
      ],
      "metadata": {
        "colab": {
          "base_uri": "https://localhost:8080/"
        },
        "id": "cGRjj2yXEgxp",
        "outputId": "9e2f5bd1-7e4b-46ad-e34b-7885b18ace00"
      },
      "execution_count": 57,
      "outputs": [
        {
          "output_type": "stream",
          "name": "stdout",
          "text": [
            "Accuracy:  0.97678916827853\n"
          ]
        }
      ]
    },
    {
      "cell_type": "markdown",
      "source": [
        "**Model accuracy of 97%**\n",
        "- - - - - -"
      ],
      "metadata": {
        "id": "yVBgK9V8YU4A"
      }
    },
    {
      "cell_type": "markdown",
      "source": [
        "## *Confusion Matrix*"
      ],
      "metadata": {
        "id": "QZEz75GTYJWI"
      }
    },
    {
      "cell_type": "code",
      "source": [
        "# plotting the confusion matrix\n",
        "plt.figure(figsize=(15,10))\n",
        "sns.heatmap(confusion_m, annot=True)\n",
        "plt.show()"
      ],
      "metadata": {
        "colab": {
          "base_uri": "https://localhost:8080/",
          "height": 630
        },
        "id": "JDg0-D5mYOEs",
        "outputId": "1cb71c9d-5745-4cf9-bed5-0adf245a5142"
      },
      "execution_count": 59,
      "outputs": [
        {
          "output_type": "display_data",
          "data": {
            "text/plain": [
              "<Figure size 1500x1000 with 2 Axes>"
            ],
            "image/png": "[encoded data removed]"
          },
          "metadata": {}
        }
      ]
    },
    {
      "cell_type": "markdown",
      "source": [
        "## *Function Creation & Testing*"
      ],
      "metadata": {
        "id": "3Zwm2qVNcarY"
      }
    },
    {
      "cell_type": "code",
      "source": [
        "def lang_predict(text):\n",
        "  x = cv.transform([text]).toarray() # cv = CountVectorizer converting text to Bag of Words model\n",
        "  lang = model.predict(x)\n",
        "  lang = le.inverse_transform(lang) # lang is storing predicted language\n",
        "  print(\"The language is in\",lang[0])"
      ],
      "metadata": {
        "id": "abhz1HlYZ7Og"
      },
      "execution_count": 61,
      "outputs": []
    },
    {
      "cell_type": "code",
      "source": [
        "# testing lang_predict call\n",
        "lang_predict(\"Hello world\")\n",
        "lang_predict(\"Hola mundo\")\n",
        "lang_predict(\"Bonjour le monde\")\n",
        "lang_predict(\"Привет, мир\")\n",
        "lang_predict(\"ഹലോ വേൾഡ്\")\n",
        "lang_predict(\"Olá Mundo\")\n",
        "lang_predict(\"مرحبا بالعالم\")\n",
        "lang_predict(\"Ciao mondo\")"
      ],
      "metadata": {
        "colab": {
          "base_uri": "https://localhost:8080/"
        },
        "id": "p-Ydlkjaalio",
        "outputId": "70c6b0e7-c5cc-4861-e3d4-a0eb54d38aa8"
      },
      "execution_count": 71,
      "outputs": [
        {
          "output_type": "stream",
          "name": "stdout",
          "text": [
            "The language is in English\n",
            "The language is in Spanish\n",
            "The language is in French\n",
            "The language is in Russian\n",
            "The language is in Malayalam\n",
            "The language is in Portugeese\n",
            "The language is in Arabic\n",
            "The language is in Italian\n"
          ]
        }
      ]
    },
    {
      "cell_type": "markdown",
      "source": [
        "# **Final Function**\n",
        "*   Leave text sample here to detect the language!\n",
        "\n"
      ],
      "metadata": {
        "id": "C5e2BKuUcgkD"
      }
    },
    {
      "cell_type": "code",
      "source": [
        "lang_predict(\"\")"
      ],
      "metadata": {
        "id": "QLAWuue6ct33"
      },
      "execution_count": null,
      "outputs": []
    },
    {
      "cell_type": "markdown",
      "source": [
        "---"
      ],
      "metadata": {
        "id": "MmhcT2cEfAuB"
      }
    }
  ]
}